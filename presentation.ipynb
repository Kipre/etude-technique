{
 "cells": [
  {
   "cell_type": "code",
   "execution_count": 11,
   "metadata": {
    "slideshow": {
     "slide_type": "skip"
    }
   },
   "outputs": [],
   "source": [
    "import pandas as pd"
   ]
  },
  {
   "cell_type": "markdown",
   "metadata": {
    "slideshow": {
     "slide_type": "slide"
    }
   },
   "source": [
    "# <center> Indexation automatique des publications d'une archive ouverte </center>\n",
    "\n",
    "<br><br>\n",
    "\n",
    "__<center>Fevrier 2020 - Beye, Qohafa, Neverov</center>__\n",
    "\n",
    "<br><br>\n",
    "\n",
    "Encadre par M. Tchechmedjiev et Mme. Toulet  "
   ]
  },
  {
   "cell_type": "code",
   "execution_count": null,
   "metadata": {
    "slideshow": {
     "slide_type": "skip"
    }
   },
   "outputs": [],
   "source": [
    "![img](https://www.cirad.fr/extension/cirad_fr/design/cirad_fr/images/logo_cirad.gif)"
   ]
  },
  {
   "cell_type": "markdown",
   "metadata": {
    "slideshow": {
     "slide_type": "slide"
    }
   },
   "source": [
    "## Plan\n",
    "\n",
    "1. Introduction\n",
    "2. Problématique\n",
    "3. Implementation\n",
    "4. Resultats"
   ]
  },
  {
   "cell_type": "markdown",
   "metadata": {
    "slideshow": {
     "slide_type": "slide"
    }
   },
   "source": [
    "## L'archive ouverte Agritrop"
   ]
  },
  {
   "cell_type": "code",
   "execution_count": 16,
   "metadata": {
    "slideshow": {
     "slide_type": "-"
    }
   },
   "outputs": [
    {
     "data": {
      "text/html": [
       "<iframe src=\"https://agritrop.cirad.fr/595198/\" width=\"1100\" height=\"600\"></iframe>\n"
      ],
      "text/plain": [
       "<IPython.core.display.HTML object>"
      ]
     },
     "metadata": {},
     "output_type": "display_data"
    }
   ],
   "source": [
    "%%html\n",
    "<iframe src=\"https://agritrop.cirad.fr/595198/\" width=\"1100\" height=\"600\"></iframe>"
   ]
  },
  {
   "cell_type": "markdown",
   "metadata": {
    "slideshow": {
     "slide_type": "slide"
    }
   },
   "source": [
    "## AGROVOC\n",
    "\n",
    "- Vocabulaire contrôlé couvrant tous les domaines d’intérêt de l'alimentation et l'agriculture.\n",
    "- Publié par la FAO et révisé par une communauté d'experts. \n",
    "- Utilisé par des chercheurs, des libraires et des gestionnaires d'information pour indexer, extraire et organiser des données dans des systèmes d'information agricole ou des pages web. \n",
    "- Comprend plus de 35 000 concepts disponibles en jusqu'à 29 langues."
   ]
  },
  {
   "cell_type": "code",
   "execution_count": 9,
   "metadata": {
    "slideshow": {
     "slide_type": "skip"
    }
   },
   "outputs": [],
   "source": [
    "# %%html\n",
    "# <iframe src=\"http://agrovoc.uniroma2.it/agrovoc/agrovoc/en/?clang=fr\" width=\"1100\" height=\"720\"></iframe>"
   ]
  },
  {
   "cell_type": "markdown",
   "metadata": {
    "slideshow": {
     "slide_type": "slide"
    }
   },
   "source": [
    "## Problematique\n",
    "\n",
    "- Mots cles thematiques\n",
    "- Mots cles geographiques"
   ]
  },
  {
   "cell_type": "markdown",
   "metadata": {
    "slideshow": {
     "slide_type": "slide"
    }
   },
   "source": [
    "## Outils\n",
    "\n",
    "- GROBID\n",
    "- Entity fishing"
   ]
  },
  {
   "cell_type": "markdown",
   "metadata": {
    "slideshow": {
     "slide_type": "slide"
    }
   },
   "source": [
    "## Dataset"
   ]
  },
  {
   "cell_type": "code",
   "execution_count": 14,
   "metadata": {},
   "outputs": [
    {
     "data": {
      "text/html": [
       "<div>\n",
       "<style scoped>\n",
       "    .dataframe tbody tr th:only-of-type {\n",
       "        vertical-align: middle;\n",
       "    }\n",
       "\n",
       "    .dataframe tbody tr th {\n",
       "        vertical-align: top;\n",
       "    }\n",
       "\n",
       "    .dataframe thead th {\n",
       "        text-align: right;\n",
       "    }\n",
       "</style>\n",
       "<table border=\"1\" class=\"dataframe\">\n",
       "  <thead>\n",
       "    <tr style=\"text-align: right;\">\n",
       "      <th></th>\n",
       "      <th>CLE</th>\n",
       "      <th>ACCES_TEXTE_INTEGRAL</th>\n",
       "      <th>LANGUE</th>\n",
       "      <th>DESCRIPTEURS</th>\n",
       "      <th>RESUM</th>\n",
       "    </tr>\n",
       "  </thead>\n",
       "  <tbody>\n",
       "    <tr>\n",
       "      <td>0</td>\n",
       "      <td>551172</td>\n",
       "      <td>http://agritrop.cirad.fr/551172/1/document_551...</td>\n",
       "      <td>fre</td>\n",
       "      <td>Élevage; Cameroun; Cameroun nord</td>\n",
       "      <td>La sédentarisation des familles d'éleveurs Peu...</td>\n",
       "    </tr>\n",
       "    <tr>\n",
       "      <td>1</td>\n",
       "      <td>555609</td>\n",
       "      <td>http://agritrop.cirad.fr/555609/1/document_555...</td>\n",
       "      <td>fre</td>\n",
       "      <td>Clone; système d'aide à la décision; Méthodolo...</td>\n",
       "      <td>Les recommandations et le choix final des clon...</td>\n",
       "    </tr>\n",
       "    <tr>\n",
       "      <td>2</td>\n",
       "      <td>555932</td>\n",
       "      <td>http://agritrop.cirad.fr/555932/1/document_555...</td>\n",
       "      <td>fre</td>\n",
       "      <td>Culture maraîchère; Bénin</td>\n",
       "      <td>NaN</td>\n",
       "    </tr>\n",
       "    <tr>\n",
       "      <td>3</td>\n",
       "      <td>555065</td>\n",
       "      <td>http://agritrop.cirad.fr/555065/1/ID555065.pdf</td>\n",
       "      <td>fre</td>\n",
       "      <td>NaN</td>\n",
       "      <td>NaN</td>\n",
       "    </tr>\n",
       "    <tr>\n",
       "      <td>4</td>\n",
       "      <td>555971</td>\n",
       "      <td>http://agritrop.cirad.fr/555971/1/document_555...</td>\n",
       "      <td>fre</td>\n",
       "      <td>Trichogramma chilonis; Saccharum officinarum; ...</td>\n",
       "      <td>NaN</td>\n",
       "    </tr>\n",
       "    <tr>\n",
       "      <td>...</td>\n",
       "      <td>...</td>\n",
       "      <td>...</td>\n",
       "      <td>...</td>\n",
       "      <td>...</td>\n",
       "      <td>...</td>\n",
       "    </tr>\n",
       "    <tr>\n",
       "      <td>12286</td>\n",
       "      <td>586653</td>\n",
       "      <td>http://agritrop.cirad.fr/586653/1/Petzer 17 SC...</td>\n",
       "      <td>eng</td>\n",
       "      <td>Technique analytique; Vache laitière; Enquête ...</td>\n",
       "      <td>The objective of the study was to establish an...</td>\n",
       "    </tr>\n",
       "    <tr>\n",
       "      <td>12287</td>\n",
       "      <td>586655</td>\n",
       "      <td>http://agritrop.cirad.fr/586655/1/SAPAA_Amelio...</td>\n",
       "      <td>fre</td>\n",
       "      <td>NaN</td>\n",
       "      <td>La production d'oignon a connu au Sénégal une ...</td>\n",
       "    </tr>\n",
       "    <tr>\n",
       "      <td>12288</td>\n",
       "      <td>585719</td>\n",
       "      <td>http://agritrop.cirad.fr/585719/1/ID585719.pdf</td>\n",
       "      <td>eng</td>\n",
       "      <td>NaN</td>\n",
       "      <td>Coastal areas around the world are facing mult...</td>\n",
       "    </tr>\n",
       "    <tr>\n",
       "      <td>12289</td>\n",
       "      <td>586664</td>\n",
       "      <td>http://agritrop.cirad.fr/586664/1/ID586664.pdf</td>\n",
       "      <td>eng</td>\n",
       "      <td>NaN</td>\n",
       "      <td>In the humid tropics, a significant amount of ...</td>\n",
       "    </tr>\n",
       "    <tr>\n",
       "      <td>12290</td>\n",
       "      <td>585241</td>\n",
       "      <td>http://agritrop.cirad.fr/585241/1/vew036.045.pdf</td>\n",
       "      <td>eng</td>\n",
       "      <td>Transmission des maladies; Maladie de l'homme;...</td>\n",
       "      <td>Middle East Respiratory Syndrome Coronavirus (...</td>\n",
       "    </tr>\n",
       "  </tbody>\n",
       "</table>\n",
       "<p>12291 rows × 5 columns</p>\n",
       "</div>"
      ],
      "text/plain": [
       "          CLE                               ACCES_TEXTE_INTEGRAL LANGUE  \\\n",
       "0      551172  http://agritrop.cirad.fr/551172/1/document_551...    fre   \n",
       "1      555609  http://agritrop.cirad.fr/555609/1/document_555...    fre   \n",
       "2      555932  http://agritrop.cirad.fr/555932/1/document_555...    fre   \n",
       "3      555065     http://agritrop.cirad.fr/555065/1/ID555065.pdf    fre   \n",
       "4      555971  http://agritrop.cirad.fr/555971/1/document_555...    fre   \n",
       "...       ...                                                ...    ...   \n",
       "12286  586653  http://agritrop.cirad.fr/586653/1/Petzer 17 SC...    eng   \n",
       "12287  586655  http://agritrop.cirad.fr/586655/1/SAPAA_Amelio...    fre   \n",
       "12288  585719     http://agritrop.cirad.fr/585719/1/ID585719.pdf    eng   \n",
       "12289  586664     http://agritrop.cirad.fr/586664/1/ID586664.pdf    eng   \n",
       "12290  585241   http://agritrop.cirad.fr/585241/1/vew036.045.pdf    eng   \n",
       "\n",
       "                                            DESCRIPTEURS  \\\n",
       "0                       Élevage; Cameroun; Cameroun nord   \n",
       "1      Clone; système d'aide à la décision; Méthodolo...   \n",
       "2                              Culture maraîchère; Bénin   \n",
       "3                                                    NaN   \n",
       "4      Trichogramma chilonis; Saccharum officinarum; ...   \n",
       "...                                                  ...   \n",
       "12286  Technique analytique; Vache laitière; Enquête ...   \n",
       "12287                                                NaN   \n",
       "12288                                                NaN   \n",
       "12289                                                NaN   \n",
       "12290  Transmission des maladies; Maladie de l'homme;...   \n",
       "\n",
       "                                                   RESUM  \n",
       "0      La sédentarisation des familles d'éleveurs Peu...  \n",
       "1      Les recommandations et le choix final des clon...  \n",
       "2                                                    NaN  \n",
       "3                                                    NaN  \n",
       "4                                                    NaN  \n",
       "...                                                  ...  \n",
       "12286  The objective of the study was to establish an...  \n",
       "12287  La production d'oignon a connu au Sénégal une ...  \n",
       "12288  Coastal areas around the world are facing mult...  \n",
       "12289  In the humid tropics, a significant amount of ...  \n",
       "12290  Middle East Respiratory Syndrome Coronavirus (...  \n",
       "\n",
       "[12291 rows x 5 columns]"
      ]
     },
     "execution_count": 14,
     "metadata": {},
     "output_type": "execute_result"
    }
   ],
   "source": [
    "file = pd.read_excel('2020_export_Projet_Indexation_Automatique_Notice_accesTI_public_depuis2010_20200204.xlsx')\n",
    "file[['CLE', 'ACCES_TEXTE_INTEGRAL', 'LANGUE', 'DESCRIPTEURS', 'RESUM']]"
   ]
  },
  {
   "cell_type": "code",
   "execution_count": null,
   "metadata": {},
   "outputs": [],
   "source": []
  },
  {
   "cell_type": "code",
   "execution_count": null,
   "metadata": {},
   "outputs": [],
   "source": []
  },
  {
   "cell_type": "code",
   "execution_count": null,
   "metadata": {},
   "outputs": [],
   "source": []
  },
  {
   "cell_type": "code",
   "execution_count": null,
   "metadata": {},
   "outputs": [],
   "source": []
  }
 ],
 "metadata": {
  "celltoolbar": "Slideshow",
  "kernelspec": {
   "display_name": "Python 3",
   "language": "python",
   "name": "python3"
  },
  "language_info": {
   "codemirror_mode": {
    "name": "ipython",
    "version": 3
   },
   "file_extension": ".py",
   "mimetype": "text/x-python",
   "name": "python",
   "nbconvert_exporter": "python",
   "pygments_lexer": "ipython3",
   "version": "3.7.4"
  }
 },
 "nbformat": 4,
 "nbformat_minor": 2
}

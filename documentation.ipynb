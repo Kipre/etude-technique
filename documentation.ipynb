{
  "nbformat": 4,
  "nbformat_minor": 0,
  "metadata": {
    "kernelspec": {
      "display_name": "Python 3",
      "language": "python",
      "name": "python3"
    },
    "language_info": {
      "codemirror_mode": {
        "name": "ipython",
        "version": 3
      },
      "file_extension": ".py",
      "mimetype": "text/x-python",
      "name": "python",
      "nbconvert_exporter": "python",
      "pygments_lexer": "ipython3",
      "version": "3.7.4"
    },
    "colab": {
      "name": "documentation.ipynb",
      "provenance": []
    }
  },
  "cells": [
    {
      "cell_type": "markdown",
      "metadata": {
        "id": "C2ctjZ4LZJQJ",
        "colab_type": "text"
      },
      "source": [
        "# Documentation\n",
        "\n",
        "Dans ce notebook nos présentons et expliquons les différentes classes en fonctions que nous avons implementé pour l'étude technique."
      ]
    },
    {
      "cell_type": "markdown",
      "metadata": {
        "id": "tNYsi8e8aP3W",
        "colab_type": "text"
      },
      "source": [
        "## Reconciliation avec AGROVOC\n",
        "\n",
        "Pour pouvoir chercher des concepts dans AGROVOC nous utilisons un outil de reconciliation qui nous a ete fourni. Il est tres simple a utiliser mais prend beaucoup de temps pour s'initialiser.\n",
        "\n",
        "Pour creer une instance d'`Agrovoc` on doit passer un graphe vierge au constructeur. Celui-ci va charger l'ontologie dedans. "
      ]
    },
    {
      "cell_type": "code",
      "metadata": {
        "id": "6baCqXINbVO_",
        "colab_type": "code",
        "colab": {
          "base_uri": "https://localhost:8080/",
          "height": 67
        },
        "outputId": "b77f96dd-5a3d-4f53-8bac-6d95c0812453"
      },
      "source": [
        "from agrovoc import Agrovoc\n",
        "from rdflib import Graph\n",
        "\n",
        "g = Graph()\n",
        "agrovoc = Agrovoc(g)"
      ],
      "execution_count": 7,
      "outputs": [
        {
          "output_type": "stream",
          "text": [
            "Now loading the dictionary...\n"
          ],
          "name": "stdout"
        },
        {
          "output_type": "stream",
          "text": [
            "  0%|          | 15/36938 [00:00<04:14, 144.89it/s]"
          ],
          "name": "stderr"
        },
        {
          "output_type": "stream",
          "text": [
            "Now indexing the dictionary...\n"
          ],
          "name": "stdout"
        },
        {
          "output_type": "stream",
          "text": [
            "100%|██████████| 36938/36938 [03:09<00:00, 195.36it/s]\n"
          ],
          "name": "stderr"
        }
      ]
    },
    {
      "cell_type": "markdown",
      "metadata": {
        "id": "IuGl6ym7cuvM",
        "colab_type": "text"
      },
      "source": [
        "Et maintenant il est possible de faire des requettes dans AGROVOC en utilisant la methode `Agrovoc.find_with_agrovoc()`:"
      ]
    },
    {
      "cell_type": "code",
      "metadata": {
        "id": "7pTE2PqZcuKK",
        "colab_type": "code",
        "colab": {
          "base_uri": "https://localhost:8080/",
          "height": 33
        },
        "outputId": "6081729f-11f6-4e1d-f75a-9819bad0d4ba"
      },
      "source": [
        "agrovoc.find_with_agrovoc('Cameroun')"
      ],
      "execution_count": 9,
      "outputs": [
        {
          "output_type": "execute_result",
          "data": {
            "text/plain": [
              "{('http://aims.fao.org/aos/agrovoc/c_1229', 'Cameroun')}"
            ]
          },
          "metadata": {
            "tags": []
          },
          "execution_count": 9
        }
      ]
    },
    {
      "cell_type": "markdown",
      "metadata": {
        "id": "n2JbQ1wGhp7L",
        "colab_type": "text"
      },
      "source": [
        "## Extraction\n",
        "\n",
        "Dans cette partie nous allons expliciter les differentes fonctions qui se situent dans `grobid_utils`.\n"
      ]
    },
    {
      "cell_type": "code",
      "metadata": {
        "id": "0f4CZ7jhhkct",
        "colab_type": "code",
        "colab": {}
      },
      "source": [
        "from grobid_utils import *"
      ],
      "execution_count": 0,
      "outputs": []
    },
    {
      "cell_type": "markdown",
      "metadata": {
        "id": "Po7jcLt5ijHb",
        "colab_type": "text"
      },
      "source": [
        "\n",
        "### `pdf_to_xml(url)`\n",
        "\n",
        "Cette fonction prend en argument l'`url` d'un pdf d'une publication scientifique et retourne son `xml` TEI sous forme d'une chaine de characteres. "
      ]
    },
    {
      "cell_type": "code",
      "metadata": {
        "id": "XZ67C19GijnC",
        "colab_type": "code",
        "colab": {
          "base_uri": "https://localhost:8080/",
          "height": 53
        },
        "outputId": "2a0551c6-cfec-404d-9a55-beba7f42de78"
      },
      "source": [
        "xml = pdf_to_xml('http://agritrop.cirad.fr/557447/1/document_557447.pdf')\n",
        "xml[:1000]"
      ],
      "execution_count": 23,
      "outputs": [
        {
          "output_type": "execute_result",
          "data": {
            "text/plain": [
              "'<?xml version=\"1.0\" encoding=\"UTF-8\"?>\\n<TEI xml:space=\"preserve\" xmlns=\"http://www.tei-c.org/ns/1.0\" \\nxmlns:xsi=\"http://www.w3.org/2001/XMLSchema-instance\" \\nxsi:schemaLocation=\"http://www.tei-c.org/ns/1.0 /home/lopez/grobid/grobid-home/schemas/xsd/Grobid.xsd\"\\n xmlns:xlink=\"http://www.w3.org/1999/xlink\">\\n\\t<teiHeader xml:lang=\"pt\">\\n\\t\\t<fileDesc>\\n\\t\\t\\t<titleStmt>\\n\\t\\t\\t\\t<title level=\"a\" type=\"main\">Estimation of the mechanical properties of wood ... ESTIMATION OF THE MECHANICAL PROPERTIES OF WOOD FROM Eucalyptus urophylla USING NEAR INFRARED SPECTROSCOPY ESTIMATIVA DE PROPRIEDADES MECÂNICAS DA MADEIRA DE Eucalyptus urophylla USANDO A ESPECTROSCOPIA NO INFRAVERMELHO PRÓXIMO</title>\\n\\t\\t\\t</titleStmt>\\n\\t\\t\\t<publicationStmt>\\n\\t\\t\\t\\t<publisher/>\\n\\t\\t\\t\\t<availability status=\"unknown\"><licence/></availability>\\n\\t\\t\\t</publicationStmt>\\n\\t\\t\\t<sourceDesc>\\n\\t\\t\\t\\t<biblStruct>\\n\\t\\t\\t\\t\\t<analytic>\\n\\t\\t\\t\\t\\t\\t<author>\\n\\t\\t\\t\\t\\t\\t\\t<persName xmlns=\"http://www.tei-c.org/ns/1.0\"><forename type=\"first\">Carlos</forename><forename type=\"middle\">R'"
            ]
          },
          "metadata": {
            "tags": []
          },
          "execution_count": 23
        }
      ]
    },
    {
      "cell_type": "markdown",
      "metadata": {
        "id": "h5b0R6Okm3uS",
        "colab_type": "text"
      },
      "source": [
        "### `extract_entities(xml, lang='fr', mode='fulltext')`\n",
        "\n",
        "Cette fonction prend en argument un string de `xml` TEI et rend un string de `json` avec les entites. `lang` peut etre soit `'fr'` soit `'en'` et le mode peut etre soit `'fulltext'` comme par defaut, soit `'abstract'` pour extraire uniquement les entites de l'abstract. \n"
      ]
    },
    {
      "cell_type": "code",
      "metadata": {
        "id": "0g9XwZMinW__",
        "colab_type": "code",
        "colab": {
          "base_uri": "https://localhost:8080/",
          "height": 53
        },
        "outputId": "67dae921-a02b-4b15-81d3-967132972450"
      },
      "source": [
        "json_text = extract_entities(xml)\n",
        "json_text[:1000]"
      ],
      "execution_count": 34,
      "outputs": [
        {
          "output_type": "execute_result",
          "data": {
            "text/plain": [
              "'{\"runtime\": 3338, \"nbest\": false, \"text\": \"  INTRODUCTION Properties relating to wood resistance include bend strength  also known as modulus of rupture  compressive strength  tensile strength  shear strength  stiffness  among others  And properties relating to wood elasticity include modulus of elasticity  Poisson coefficient  plasticity and resilience   KOLLMANN   CÔTÉ JUNIOR 1968    Strength in compression parallel to grain is the maximum load in the direction of the length a sample is ANDRADE  C  R  et al  capable of sustaining   KOLLMANN   COTÊ JÚNIOR 1968    Modulus of rupture reflects a sample\\'s ability to resist deformation when it is subjected to bending and is equivalent to the maximum moment shown by the sample   GREEN et al  1999     Klock  2000   reports that high MOE values indicate a material\\'s high strength and low deformation characteristics  which means it will qualify for structural works  Typically  mechanical characterization of wood is done by destructive analysis'"
            ]
          },
          "metadata": {
            "tags": []
          },
          "execution_count": 34
        }
      ]
    },
    {
      "cell_type": "markdown",
      "metadata": {
        "id": "Jskb7v7Prfzn",
        "colab_type": "text"
      },
      "source": [
        "### `intersection(set1, set2)`\n",
        "\n",
        "Cette fonction calcule l'intersection entre deux ensembles de concepts si les concepts sont sous la forme de tuples comme ceux retournes par la methode `Agrovoc.find_with_agrovoc()`"
      ]
    },
    {
      "cell_type": "code",
      "metadata": {
        "id": "SR2zomsarey_",
        "colab_type": "code",
        "colab": {
          "base_uri": "https://localhost:8080/",
          "height": 50
        },
        "outputId": "65071e26-9f4d-4cc3-9b06-78cfad0a66c6"
      },
      "source": [
        "set1 = {('http://aims.fao.org/aos/agrovoc/c_1229', 'Cameroun'),\n",
        "        ('http://aims.fao.org/aos/agrovoc/c_6970', 'Senegal'),\n",
        "        ('http://aims.fao.org/aos/agrovoc/c_5993', 'Plante'),\n",
        "        ('http://aims.fao.org/aos/agrovoc/c_4795', 'Souris')}\n",
        "\n",
        "set2 = {('http://aims.fao.org/aos/agrovoc/c_1229', 'cameroun'),\n",
        "        ('http://aims.fao.org/aos/agrovoc/c_6693', 'ruminant'),\n",
        "        ('http://aims.fao.org/aos/agrovoc/c_5993', 'plante'),\n",
        "        ('http://aims.fao.org/aos/agrovoc/c_1390', 'chat')}\n",
        "\n",
        "intersection(set1, set2)"
      ],
      "execution_count": 28,
      "outputs": [
        {
          "output_type": "execute_result",
          "data": {
            "text/plain": [
              "{('http://aims.fao.org/aos/agrovoc/c_1229', 'Cameroun'),\n",
              " ('http://aims.fao.org/aos/agrovoc/c_5993', 'Plante')}"
            ]
          },
          "metadata": {
            "tags": []
          },
          "execution_count": 28
        }
      ]
    },
    {
      "cell_type": "markdown",
      "metadata": {
        "id": "b46_Tmz4u-LH",
        "colab_type": "text"
      },
      "source": [
        "### `fetch_entities(json_text)`\n",
        "\n",
        "Recupere les entites et les categories d'un `json` sous forme de string (qui est sorti de entity-fishing donc de la fonction `extract_entities`) et retourne une liste de strings"
      ]
    },
    {
      "cell_type": "code",
      "metadata": {
        "id": "kGYKvoazu-s_",
        "colab_type": "code",
        "colab": {
          "base_uri": "https://localhost:8080/",
          "height": 100
        },
        "outputId": "c80ef9dc-840a-4cbc-f3cb-84bd6eaa06f4"
      },
      "source": [
        "concepts = fetch_entities(json_text)\n",
        "concepts[30:35]"
      ],
      "execution_count": 37,
      "outputs": [
        {
          "output_type": "execute_result",
          "data": {
            "text/plain": [
              "['Eucalyptus grandis and E urophylla',\n",
              " 'Pinus',\n",
              " 'HEIN',\n",
              " 'Larix and concluded',\n",
              " 'samples']"
            ]
          },
          "metadata": {
            "tags": []
          },
          "execution_count": 37
        }
      ]
    },
    {
      "cell_type": "markdown",
      "metadata": {
        "id": "HOiR7Vwfs8Eg",
        "colab_type": "text"
      },
      "source": [
        "### `to_agrovoc(concepts, agrovoc)`\n",
        "\n",
        "Transforme la liste de strings `concepts` en un ensemble de concepts agrovoc. Necessite une instance initialisee de `Agrovoc` car utilise la methode de recherche. "
      ]
    },
    {
      "cell_type": "code",
      "metadata": {
        "id": "UYSjSC21s7f9",
        "colab_type": "code",
        "colab": {
          "base_uri": "https://localhost:8080/",
          "height": 50
        },
        "outputId": "a54e0614-ea9d-4063-8859-3064b0e2550c"
      },
      "source": [
        "to_agrovoc(['souris', 'chat', 'balais'], agrovoc)"
      ],
      "execution_count": 30,
      "outputs": [
        {
          "output_type": "execute_result",
          "data": {
            "text/plain": [
              "{('http://aims.fao.org/aos/agrovoc/c_1390', 'chat'),\n",
              " ('http://aims.fao.org/aos/agrovoc/c_4795', 'souris')}"
            ]
          },
          "metadata": {
            "tags": []
          },
          "execution_count": 30
        }
      ]
    }
  ]
}